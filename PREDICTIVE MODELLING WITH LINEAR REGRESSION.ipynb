{
 "cells": [
  {
   "cell_type": "code",
   "execution_count": 1,
   "id": "330bdfaa",
   "metadata": {
    "_cell_guid": "b1076dfc-b9ad-4769-8c92-a6c4dae69d19",
    "_uuid": "8f2839f25d086af736a60e9eeb907d3b93b6e0e5",
    "execution": {
     "iopub.execute_input": "2021-09-26T20:01:30.140468Z",
     "iopub.status.busy": "2021-09-26T20:01:30.138951Z",
     "iopub.status.idle": "2021-09-26T20:01:30.235016Z",
     "shell.execute_reply": "2021-09-26T20:01:30.235404Z",
     "shell.execute_reply.started": "2021-09-26T16:20:04.007643Z"
    },
    "papermill": {
     "duration": 0.129942,
     "end_time": "2021-09-26T20:01:30.235656",
     "exception": false,
     "start_time": "2021-09-26T20:01:30.105714",
     "status": "completed"
    },
    "tags": []
   },
   "outputs": [
    {
     "name": "stdout",
     "output_type": "stream",
     "text": [
      "/kaggle/input/tabular-playground-series-sep-2021/train.csv\n",
      "/kaggle/input/tabular-playground-series-sep-2021/test.csv\n",
      "/kaggle/input/tabular-playground-series-sep-2021/sample_solution.csv\n",
      "/kaggle/input/tpsdata/xg_predictions.npy\n",
      "/kaggle/input/tpsdata/cat_train_oof.npy\n",
      "/kaggle/input/tpsdata/cat_predictions.npy\n",
      "/kaggle/input/tpsdata/lgd_predictions.npy\n",
      "/kaggle/input/tpsdata/lgd_train_oof.npy\n",
      "/kaggle/input/tpsdata/xg_train_oof.npy\n"
     ]
    }
   ],
   "source": [
    "# This Python 3 environment comes with many helpful analytics libraries installed\n",
    "# It is defined by the kaggle/python Docker image: https://github.com/kaggle/docker-python\n",
    "# For example, here's several helpful packages to load\n",
    "\n",
    "import numpy as np # linear algebra\n",
    "import pandas as pd # data processing, CSV file I/O (e.g. pd.read_csv)\n",
    "\n",
    "# Input data files are available in the read-only \"../input/\" directory\n",
    "# For example, running this (by clicking run or pressing Shift+Enter) will list all files under the input directory\n",
    "\n",
    "import os\n",
    "for dirname, _, filenames in os.walk('/kaggle/input'):\n",
    "    for filename in filenames:\n",
    "        print(os.path.join(dirname, filename))\n",
    "\n",
    "# You can write up to 20GB to the current directory (/kaggle/working/) that gets preserved as output when you create a version using \"Save & Run All\" \n",
    "# You can also write temporary files to /kaggle/temp/, but they won't be saved outside of the current session"
   ]
  },
  {
   "cell_type": "code",
   "execution_count": 2,
   "id": "8bc4be5a",
   "metadata": {
    "execution": {
     "iopub.execute_input": "2021-09-26T20:01:30.353285Z",
     "iopub.status.busy": "2021-09-26T20:01:30.352683Z",
     "iopub.status.idle": "2021-09-26T20:01:31.082865Z",
     "shell.execute_reply": "2021-09-26T20:01:31.082405Z",
     "shell.execute_reply.started": "2021-09-26T16:16:36.505006Z"
    },
    "papermill": {
     "duration": 0.761757,
     "end_time": "2021-09-26T20:01:31.083038",
     "exception": false,
     "start_time": "2021-09-26T20:01:30.321281",
     "status": "completed"
    },
    "tags": []
   },
   "outputs": [],
   "source": [
    "import os\n",
    "import joblib\n",
    "import numpy as np\n",
    "import pandas as pd\n",
    "import warnings\n",
    "\n",
    "import matplotlib\n",
    "import matplotlib.pyplot as plt\n",
    "from matplotlib import ticker\n",
    "import seaborn as sns\n",
    "\n",
    "warnings.filterwarnings('ignore')"
   ]
  },
  {
   "cell_type": "code",
   "execution_count": 3,
   "id": "137881d2",
   "metadata": {
    "execution": {
     "iopub.execute_input": "2021-09-26T20:01:31.195848Z",
     "iopub.status.busy": "2021-09-26T20:01:31.195071Z",
     "iopub.status.idle": "2021-09-26T20:02:12.264643Z",
     "shell.execute_reply": "2021-09-26T20:02:12.263640Z",
     "shell.execute_reply.started": "2021-09-26T16:16:37.235298Z"
    },
    "papermill": {
     "duration": 41.099607,
     "end_time": "2021-09-26T20:02:12.264795",
     "exception": false,
     "start_time": "2021-09-26T20:01:31.165188",
     "status": "completed"
    },
    "tags": []
   },
   "outputs": [],
   "source": [
    "# import datasets\n",
    "train_df = pd.read_csv('/kaggle/input/tabular-playground-series-sep-2021/train.csv')\n",
    "test_df = pd.read_csv('/kaggle/input/tabular-playground-series-sep-2021/test.csv')\n",
    "submission = pd.read_csv('/kaggle/input/tabular-playground-series-sep-2021/sample_solution.csv')"
   ]
  },
  {
   "cell_type": "code",
   "execution_count": 4,
   "id": "56a92f52",
   "metadata": {
    "execution": {
     "iopub.execute_input": "2021-09-26T20:02:12.647736Z",
     "iopub.status.busy": "2021-09-26T20:02:12.646852Z",
     "iopub.status.idle": "2021-09-26T20:02:16.297392Z",
     "shell.execute_reply": "2021-09-26T20:02:16.296955Z"
    },
    "papermill": {
     "duration": 3.948769,
     "end_time": "2021-09-26T20:02:16.297512",
     "exception": false,
     "start_time": "2021-09-26T20:02:12.348743",
     "status": "completed"
    },
    "tags": []
   },
   "outputs": [
    {
     "data": {
      "text/html": [
       "<div>\n",
       "<style scoped>\n",
       "    .dataframe tbody tr th:only-of-type {\n",
       "        vertical-align: middle;\n",
       "    }\n",
       "\n",
       "    .dataframe tbody tr th {\n",
       "        vertical-align: top;\n",
       "    }\n",
       "\n",
       "    .dataframe thead th {\n",
       "        text-align: right;\n",
       "    }\n",
       "</style>\n",
       "<table border=\"1\" class=\"dataframe\">\n",
       "  <thead>\n",
       "    <tr style=\"text-align: right;\">\n",
       "      <th></th>\n",
       "      <th>id</th>\n",
       "      <th>f1</th>\n",
       "      <th>f2</th>\n",
       "      <th>f3</th>\n",
       "      <th>f4</th>\n",
       "      <th>f5</th>\n",
       "      <th>f6</th>\n",
       "      <th>f7</th>\n",
       "      <th>f8</th>\n",
       "      <th>f9</th>\n",
       "      <th>...</th>\n",
       "      <th>f110</th>\n",
       "      <th>f111</th>\n",
       "      <th>f112</th>\n",
       "      <th>f113</th>\n",
       "      <th>f114</th>\n",
       "      <th>f115</th>\n",
       "      <th>f116</th>\n",
       "      <th>f117</th>\n",
       "      <th>f118</th>\n",
       "      <th>claim</th>\n",
       "    </tr>\n",
       "  </thead>\n",
       "  <tbody>\n",
       "    <tr>\n",
       "      <th>count</th>\n",
       "      <td>957919.000000</td>\n",
       "      <td>942672.000000</td>\n",
       "      <td>942729.000000</td>\n",
       "      <td>942428.000000</td>\n",
       "      <td>942359.000000</td>\n",
       "      <td>942514.000000</td>\n",
       "      <td>942398.000000</td>\n",
       "      <td>942415.000000</td>\n",
       "      <td>9.425460e+05</td>\n",
       "      <td>9.426700e+05</td>\n",
       "      <td>...</td>\n",
       "      <td>942554.000000</td>\n",
       "      <td>942420.000000</td>\n",
       "      <td>942509.000000</td>\n",
       "      <td>942686.000000</td>\n",
       "      <td>942481.000000</td>\n",
       "      <td>942360.000000</td>\n",
       "      <td>9.423300e+05</td>\n",
       "      <td>942512.000000</td>\n",
       "      <td>942707.000000</td>\n",
       "      <td>957919.000000</td>\n",
       "    </tr>\n",
       "    <tr>\n",
       "      <th>mean</th>\n",
       "      <td>478959.000000</td>\n",
       "      <td>0.090201</td>\n",
       "      <td>0.345964</td>\n",
       "      <td>4068.744207</td>\n",
       "      <td>0.201214</td>\n",
       "      <td>0.304869</td>\n",
       "      <td>-0.071458</td>\n",
       "      <td>1620.843815</td>\n",
       "      <td>3.771642e+05</td>\n",
       "      <td>1.806054e+15</td>\n",
       "      <td>...</td>\n",
       "      <td>-19.926398</td>\n",
       "      <td>2.074530</td>\n",
       "      <td>23.885245</td>\n",
       "      <td>1.748777</td>\n",
       "      <td>63152.973540</td>\n",
       "      <td>1.208876</td>\n",
       "      <td>4.276905e+16</td>\n",
       "      <td>3959.204669</td>\n",
       "      <td>0.559267</td>\n",
       "      <td>0.498492</td>\n",
       "    </tr>\n",
       "    <tr>\n",
       "      <th>std</th>\n",
       "      <td>276527.540591</td>\n",
       "      <td>0.043564</td>\n",
       "      <td>0.146251</td>\n",
       "      <td>6415.829440</td>\n",
       "      <td>0.212510</td>\n",
       "      <td>0.145343</td>\n",
       "      <td>2.123777</td>\n",
       "      <td>1276.281403</td>\n",
       "      <td>3.454325e+05</td>\n",
       "      <td>2.335204e+15</td>\n",
       "      <td>...</td>\n",
       "      <td>18.578439</td>\n",
       "      <td>0.895793</td>\n",
       "      <td>45.581360</td>\n",
       "      <td>10.088848</td>\n",
       "      <td>92435.016241</td>\n",
       "      <td>0.114959</td>\n",
       "      <td>6.732441e+16</td>\n",
       "      <td>3155.991777</td>\n",
       "      <td>0.408426</td>\n",
       "      <td>0.499998</td>\n",
       "    </tr>\n",
       "    <tr>\n",
       "      <th>min</th>\n",
       "      <td>0.000000</td>\n",
       "      <td>-0.149910</td>\n",
       "      <td>-0.019044</td>\n",
       "      <td>-9421.700000</td>\n",
       "      <td>-0.082122</td>\n",
       "      <td>-0.006990</td>\n",
       "      <td>-12.791000</td>\n",
       "      <td>-224.800000</td>\n",
       "      <td>-2.984300e+04</td>\n",
       "      <td>-1.153300e+15</td>\n",
       "      <td>...</td>\n",
       "      <td>-105.860000</td>\n",
       "      <td>0.277040</td>\n",
       "      <td>-27.691000</td>\n",
       "      <td>-26.589000</td>\n",
       "      <td>-81977.000000</td>\n",
       "      <td>0.905270</td>\n",
       "      <td>-8.944400e+15</td>\n",
       "      <td>-415.240000</td>\n",
       "      <td>-0.151240</td>\n",
       "      <td>0.000000</td>\n",
       "    </tr>\n",
       "    <tr>\n",
       "      <th>25%</th>\n",
       "      <td>239479.500000</td>\n",
       "      <td>0.070227</td>\n",
       "      <td>0.283050</td>\n",
       "      <td>418.430000</td>\n",
       "      <td>0.035086</td>\n",
       "      <td>0.240520</td>\n",
       "      <td>-1.120700</td>\n",
       "      <td>481.545000</td>\n",
       "      <td>9.120900e+04</td>\n",
       "      <td>1.153100e+13</td>\n",
       "      <td>...</td>\n",
       "      <td>-28.812000</td>\n",
       "      <td>1.487700</td>\n",
       "      <td>-0.628880</td>\n",
       "      <td>-4.473975</td>\n",
       "      <td>2443.200000</td>\n",
       "      <td>1.146800</td>\n",
       "      <td>2.321100e+14</td>\n",
       "      <td>1306.200000</td>\n",
       "      <td>0.276560</td>\n",
       "      <td>0.000000</td>\n",
       "    </tr>\n",
       "    <tr>\n",
       "      <th>50%</th>\n",
       "      <td>478959.000000</td>\n",
       "      <td>0.090135</td>\n",
       "      <td>0.389100</td>\n",
       "      <td>1279.500000</td>\n",
       "      <td>0.137000</td>\n",
       "      <td>0.327790</td>\n",
       "      <td>-0.380110</td>\n",
       "      <td>1446.100000</td>\n",
       "      <td>2.896700e+05</td>\n",
       "      <td>5.043050e+14</td>\n",
       "      <td>...</td>\n",
       "      <td>-14.636000</td>\n",
       "      <td>1.662100</td>\n",
       "      <td>1.727700</td>\n",
       "      <td>0.885710</td>\n",
       "      <td>19479.000000</td>\n",
       "      <td>1.177200</td>\n",
       "      <td>1.327500e+16</td>\n",
       "      <td>3228.000000</td>\n",
       "      <td>0.473440</td>\n",
       "      <td>0.000000</td>\n",
       "    </tr>\n",
       "    <tr>\n",
       "      <th>75%</th>\n",
       "      <td>718438.500000</td>\n",
       "      <td>0.116500</td>\n",
       "      <td>0.458450</td>\n",
       "      <td>4444.400000</td>\n",
       "      <td>0.297100</td>\n",
       "      <td>0.412830</td>\n",
       "      <td>0.921940</td>\n",
       "      <td>2495.900000</td>\n",
       "      <td>5.605600e+05</td>\n",
       "      <td>3.103100e+15</td>\n",
       "      <td>...</td>\n",
       "      <td>-5.325300</td>\n",
       "      <td>2.522325</td>\n",
       "      <td>18.991000</td>\n",
       "      <td>6.840775</td>\n",
       "      <td>88488.000000</td>\n",
       "      <td>1.242000</td>\n",
       "      <td>5.278700e+16</td>\n",
       "      <td>6137.900000</td>\n",
       "      <td>0.746210</td>\n",
       "      <td>1.000000</td>\n",
       "    </tr>\n",
       "    <tr>\n",
       "      <th>max</th>\n",
       "      <td>957918.000000</td>\n",
       "      <td>0.415170</td>\n",
       "      <td>0.518990</td>\n",
       "      <td>39544.000000</td>\n",
       "      <td>1.319900</td>\n",
       "      <td>0.554750</td>\n",
       "      <td>11.202000</td>\n",
       "      <td>5426.600000</td>\n",
       "      <td>1.913700e+06</td>\n",
       "      <td>1.042400e+16</td>\n",
       "      <td>...</td>\n",
       "      <td>1.613400</td>\n",
       "      <td>4.565900</td>\n",
       "      <td>217.840000</td>\n",
       "      <td>47.757000</td>\n",
       "      <td>526050.000000</td>\n",
       "      <td>1.886700</td>\n",
       "      <td>3.249900e+17</td>\n",
       "      <td>13151.000000</td>\n",
       "      <td>2.743600</td>\n",
       "      <td>1.000000</td>\n",
       "    </tr>\n",
       "  </tbody>\n",
       "</table>\n",
       "<p>8 rows × 120 columns</p>\n",
       "</div>"
      ],
      "text/plain": [
       "                  id             f1             f2             f3  \\\n",
       "count  957919.000000  942672.000000  942729.000000  942428.000000   \n",
       "mean   478959.000000       0.090201       0.345964    4068.744207   \n",
       "std    276527.540591       0.043564       0.146251    6415.829440   \n",
       "min         0.000000      -0.149910      -0.019044   -9421.700000   \n",
       "25%    239479.500000       0.070227       0.283050     418.430000   \n",
       "50%    478959.000000       0.090135       0.389100    1279.500000   \n",
       "75%    718438.500000       0.116500       0.458450    4444.400000   \n",
       "max    957918.000000       0.415170       0.518990   39544.000000   \n",
       "\n",
       "                  f4             f5             f6             f7  \\\n",
       "count  942359.000000  942514.000000  942398.000000  942415.000000   \n",
       "mean        0.201214       0.304869      -0.071458    1620.843815   \n",
       "std         0.212510       0.145343       2.123777    1276.281403   \n",
       "min        -0.082122      -0.006990     -12.791000    -224.800000   \n",
       "25%         0.035086       0.240520      -1.120700     481.545000   \n",
       "50%         0.137000       0.327790      -0.380110    1446.100000   \n",
       "75%         0.297100       0.412830       0.921940    2495.900000   \n",
       "max         1.319900       0.554750      11.202000    5426.600000   \n",
       "\n",
       "                 f8            f9  ...           f110           f111  \\\n",
       "count  9.425460e+05  9.426700e+05  ...  942554.000000  942420.000000   \n",
       "mean   3.771642e+05  1.806054e+15  ...     -19.926398       2.074530   \n",
       "std    3.454325e+05  2.335204e+15  ...      18.578439       0.895793   \n",
       "min   -2.984300e+04 -1.153300e+15  ...    -105.860000       0.277040   \n",
       "25%    9.120900e+04  1.153100e+13  ...     -28.812000       1.487700   \n",
       "50%    2.896700e+05  5.043050e+14  ...     -14.636000       1.662100   \n",
       "75%    5.605600e+05  3.103100e+15  ...      -5.325300       2.522325   \n",
       "max    1.913700e+06  1.042400e+16  ...       1.613400       4.565900   \n",
       "\n",
       "                f112           f113           f114           f115  \\\n",
       "count  942509.000000  942686.000000  942481.000000  942360.000000   \n",
       "mean       23.885245       1.748777   63152.973540       1.208876   \n",
       "std        45.581360      10.088848   92435.016241       0.114959   \n",
       "min       -27.691000     -26.589000  -81977.000000       0.905270   \n",
       "25%        -0.628880      -4.473975    2443.200000       1.146800   \n",
       "50%         1.727700       0.885710   19479.000000       1.177200   \n",
       "75%        18.991000       6.840775   88488.000000       1.242000   \n",
       "max       217.840000      47.757000  526050.000000       1.886700   \n",
       "\n",
       "               f116           f117           f118          claim  \n",
       "count  9.423300e+05  942512.000000  942707.000000  957919.000000  \n",
       "mean   4.276905e+16    3959.204669       0.559267       0.498492  \n",
       "std    6.732441e+16    3155.991777       0.408426       0.499998  \n",
       "min   -8.944400e+15    -415.240000      -0.151240       0.000000  \n",
       "25%    2.321100e+14    1306.200000       0.276560       0.000000  \n",
       "50%    1.327500e+16    3228.000000       0.473440       0.000000  \n",
       "75%    5.278700e+16    6137.900000       0.746210       1.000000  \n",
       "max    3.249900e+17   13151.000000       2.743600       1.000000  \n",
       "\n",
       "[8 rows x 120 columns]"
      ]
     },
     "execution_count": 4,
     "metadata": {},
     "output_type": "execute_result"
    }
   ],
   "source": [
    "train_df.describe()"
   ]
  },
  {
   "cell_type": "code",
   "execution_count": 5,
   "id": "c0d54fe4",
   "metadata": {
    "execution": {
     "iopub.execute_input": "2021-09-26T20:02:16.359581Z",
     "iopub.status.busy": "2021-09-26T20:02:16.358733Z",
     "iopub.status.idle": "2021-09-26T20:02:18.516042Z",
     "shell.execute_reply": "2021-09-26T20:02:18.515609Z"
    },
    "papermill": {
     "duration": 2.189193,
     "end_time": "2021-09-26T20:02:18.516162",
     "exception": false,
     "start_time": "2021-09-26T20:02:16.326969",
     "status": "completed"
    },
    "tags": []
   },
   "outputs": [
    {
     "data": {
      "text/html": [
       "<div>\n",
       "<style scoped>\n",
       "    .dataframe tbody tr th:only-of-type {\n",
       "        vertical-align: middle;\n",
       "    }\n",
       "\n",
       "    .dataframe tbody tr th {\n",
       "        vertical-align: top;\n",
       "    }\n",
       "\n",
       "    .dataframe thead th {\n",
       "        text-align: right;\n",
       "    }\n",
       "</style>\n",
       "<table border=\"1\" class=\"dataframe\">\n",
       "  <thead>\n",
       "    <tr style=\"text-align: right;\">\n",
       "      <th></th>\n",
       "      <th>id</th>\n",
       "      <th>f1</th>\n",
       "      <th>f2</th>\n",
       "      <th>f3</th>\n",
       "      <th>f4</th>\n",
       "      <th>f5</th>\n",
       "      <th>f6</th>\n",
       "      <th>f7</th>\n",
       "      <th>f8</th>\n",
       "      <th>f9</th>\n",
       "      <th>...</th>\n",
       "      <th>f109</th>\n",
       "      <th>f110</th>\n",
       "      <th>f111</th>\n",
       "      <th>f112</th>\n",
       "      <th>f113</th>\n",
       "      <th>f114</th>\n",
       "      <th>f115</th>\n",
       "      <th>f116</th>\n",
       "      <th>f117</th>\n",
       "      <th>f118</th>\n",
       "    </tr>\n",
       "  </thead>\n",
       "  <tbody>\n",
       "    <tr>\n",
       "      <th>count</th>\n",
       "      <td>4.934740e+05</td>\n",
       "      <td>485662.000000</td>\n",
       "      <td>485583.000000</td>\n",
       "      <td>485679.000000</td>\n",
       "      <td>485741.000000</td>\n",
       "      <td>485597.000000</td>\n",
       "      <td>485561.000000</td>\n",
       "      <td>485541.000000</td>\n",
       "      <td>4.856190e+05</td>\n",
       "      <td>4.856560e+05</td>\n",
       "      <td>...</td>\n",
       "      <td>485461.000000</td>\n",
       "      <td>485701.000000</td>\n",
       "      <td>485585.000000</td>\n",
       "      <td>485449.000000</td>\n",
       "      <td>485718.000000</td>\n",
       "      <td>485532.000000</td>\n",
       "      <td>485497.000000</td>\n",
       "      <td>4.853910e+05</td>\n",
       "      <td>485711.000000</td>\n",
       "      <td>485589.000000</td>\n",
       "    </tr>\n",
       "    <tr>\n",
       "      <th>mean</th>\n",
       "      <td>1.204656e+06</td>\n",
       "      <td>0.090191</td>\n",
       "      <td>0.346143</td>\n",
       "      <td>4047.202400</td>\n",
       "      <td>0.201503</td>\n",
       "      <td>0.304879</td>\n",
       "      <td>-0.071511</td>\n",
       "      <td>1617.036351</td>\n",
       "      <td>3.767998e+05</td>\n",
       "      <td>1.808500e+15</td>\n",
       "      <td>...</td>\n",
       "      <td>0.398130</td>\n",
       "      <td>-19.840970</td>\n",
       "      <td>2.075146</td>\n",
       "      <td>23.846392</td>\n",
       "      <td>1.762625</td>\n",
       "      <td>63051.287541</td>\n",
       "      <td>1.209049</td>\n",
       "      <td>4.284258e+16</td>\n",
       "      <td>3968.585512</td>\n",
       "      <td>0.558734</td>\n",
       "    </tr>\n",
       "    <tr>\n",
       "      <th>std</th>\n",
       "      <td>1.424538e+05</td>\n",
       "      <td>0.043538</td>\n",
       "      <td>0.145889</td>\n",
       "      <td>6383.224961</td>\n",
       "      <td>0.212553</td>\n",
       "      <td>0.145435</td>\n",
       "      <td>2.125074</td>\n",
       "      <td>1272.769177</td>\n",
       "      <td>3.450146e+05</td>\n",
       "      <td>2.337721e+15</td>\n",
       "      <td>...</td>\n",
       "      <td>0.297971</td>\n",
       "      <td>18.513063</td>\n",
       "      <td>0.895702</td>\n",
       "      <td>45.544851</td>\n",
       "      <td>10.096886</td>\n",
       "      <td>92279.031878</td>\n",
       "      <td>0.115074</td>\n",
       "      <td>6.743966e+16</td>\n",
       "      <td>3161.273268</td>\n",
       "      <td>0.408472</td>\n",
       "    </tr>\n",
       "    <tr>\n",
       "      <th>min</th>\n",
       "      <td>9.579190e+05</td>\n",
       "      <td>-0.153190</td>\n",
       "      <td>-0.019060</td>\n",
       "      <td>-9436.300000</td>\n",
       "      <td>-0.080716</td>\n",
       "      <td>-0.007007</td>\n",
       "      <td>-12.841000</td>\n",
       "      <td>-215.660000</td>\n",
       "      <td>-2.780900e+04</td>\n",
       "      <td>-1.254900e+15</td>\n",
       "      <td>...</td>\n",
       "      <td>-0.042181</td>\n",
       "      <td>-104.740000</td>\n",
       "      <td>0.261040</td>\n",
       "      <td>-23.938000</td>\n",
       "      <td>-26.311000</td>\n",
       "      <td>-81381.000000</td>\n",
       "      <td>0.900700</td>\n",
       "      <td>-7.749400e+15</td>\n",
       "      <td>-416.240000</td>\n",
       "      <td>-0.186960</td>\n",
       "    </tr>\n",
       "    <tr>\n",
       "      <th>25%</th>\n",
       "      <td>1.081287e+06</td>\n",
       "      <td>0.070211</td>\n",
       "      <td>0.283660</td>\n",
       "      <td>418.835000</td>\n",
       "      <td>0.035169</td>\n",
       "      <td>0.240600</td>\n",
       "      <td>-1.119500</td>\n",
       "      <td>481.820000</td>\n",
       "      <td>9.142400e+04</td>\n",
       "      <td>1.158000e+13</td>\n",
       "      <td>...</td>\n",
       "      <td>0.113300</td>\n",
       "      <td>-28.625000</td>\n",
       "      <td>1.488500</td>\n",
       "      <td>-0.624700</td>\n",
       "      <td>-4.476575</td>\n",
       "      <td>2474.875000</td>\n",
       "      <td>1.146800</td>\n",
       "      <td>2.317850e+14</td>\n",
       "      <td>1310.000000</td>\n",
       "      <td>0.276760</td>\n",
       "    </tr>\n",
       "    <tr>\n",
       "      <th>50%</th>\n",
       "      <td>1.204656e+06</td>\n",
       "      <td>0.090173</td>\n",
       "      <td>0.388940</td>\n",
       "      <td>1277.900000</td>\n",
       "      <td>0.137350</td>\n",
       "      <td>0.328020</td>\n",
       "      <td>-0.380190</td>\n",
       "      <td>1441.800000</td>\n",
       "      <td>2.895900e+05</td>\n",
       "      <td>5.048250e+14</td>\n",
       "      <td>...</td>\n",
       "      <td>0.357960</td>\n",
       "      <td>-14.576000</td>\n",
       "      <td>1.663100</td>\n",
       "      <td>1.730400</td>\n",
       "      <td>0.910985</td>\n",
       "      <td>19429.000000</td>\n",
       "      <td>1.177200</td>\n",
       "      <td>1.330400e+16</td>\n",
       "      <td>3237.100000</td>\n",
       "      <td>0.473790</td>\n",
       "    </tr>\n",
       "    <tr>\n",
       "      <th>75%</th>\n",
       "      <td>1.328024e+06</td>\n",
       "      <td>0.116507</td>\n",
       "      <td>0.458310</td>\n",
       "      <td>4421.400000</td>\n",
       "      <td>0.297160</td>\n",
       "      <td>0.412810</td>\n",
       "      <td>0.923240</td>\n",
       "      <td>2490.000000</td>\n",
       "      <td>5.596300e+05</td>\n",
       "      <td>3.106600e+15</td>\n",
       "      <td>...</td>\n",
       "      <td>0.622650</td>\n",
       "      <td>-5.318300</td>\n",
       "      <td>2.524700</td>\n",
       "      <td>18.960000</td>\n",
       "      <td>6.852075</td>\n",
       "      <td>88309.500000</td>\n",
       "      <td>1.242300</td>\n",
       "      <td>5.284700e+16</td>\n",
       "      <td>6157.300000</td>\n",
       "      <td>0.744970</td>\n",
       "    </tr>\n",
       "    <tr>\n",
       "      <th>max</th>\n",
       "      <td>1.451392e+06</td>\n",
       "      <td>0.412900</td>\n",
       "      <td>0.519880</td>\n",
       "      <td>39841.000000</td>\n",
       "      <td>1.310200</td>\n",
       "      <td>0.555580</td>\n",
       "      <td>11.046000</td>\n",
       "      <td>5413.100000</td>\n",
       "      <td>1.906700e+06</td>\n",
       "      <td>1.048900e+16</td>\n",
       "      <td>...</td>\n",
       "      <td>1.109400</td>\n",
       "      <td>1.464200</td>\n",
       "      <td>4.570500</td>\n",
       "      <td>217.340000</td>\n",
       "      <td>47.314000</td>\n",
       "      <td>521540.000000</td>\n",
       "      <td>1.877900</td>\n",
       "      <td>3.239500e+17</td>\n",
       "      <td>13198.000000</td>\n",
       "      <td>2.732000</td>\n",
       "    </tr>\n",
       "  </tbody>\n",
       "</table>\n",
       "<p>8 rows × 119 columns</p>\n",
       "</div>"
      ],
      "text/plain": [
       "                 id             f1             f2             f3  \\\n",
       "count  4.934740e+05  485662.000000  485583.000000  485679.000000   \n",
       "mean   1.204656e+06       0.090191       0.346143    4047.202400   \n",
       "std    1.424538e+05       0.043538       0.145889    6383.224961   \n",
       "min    9.579190e+05      -0.153190      -0.019060   -9436.300000   \n",
       "25%    1.081287e+06       0.070211       0.283660     418.835000   \n",
       "50%    1.204656e+06       0.090173       0.388940    1277.900000   \n",
       "75%    1.328024e+06       0.116507       0.458310    4421.400000   \n",
       "max    1.451392e+06       0.412900       0.519880   39841.000000   \n",
       "\n",
       "                  f4             f5             f6             f7  \\\n",
       "count  485741.000000  485597.000000  485561.000000  485541.000000   \n",
       "mean        0.201503       0.304879      -0.071511    1617.036351   \n",
       "std         0.212553       0.145435       2.125074    1272.769177   \n",
       "min        -0.080716      -0.007007     -12.841000    -215.660000   \n",
       "25%         0.035169       0.240600      -1.119500     481.820000   \n",
       "50%         0.137350       0.328020      -0.380190    1441.800000   \n",
       "75%         0.297160       0.412810       0.923240    2490.000000   \n",
       "max         1.310200       0.555580      11.046000    5413.100000   \n",
       "\n",
       "                 f8            f9  ...           f109           f110  \\\n",
       "count  4.856190e+05  4.856560e+05  ...  485461.000000  485701.000000   \n",
       "mean   3.767998e+05  1.808500e+15  ...       0.398130     -19.840970   \n",
       "std    3.450146e+05  2.337721e+15  ...       0.297971      18.513063   \n",
       "min   -2.780900e+04 -1.254900e+15  ...      -0.042181    -104.740000   \n",
       "25%    9.142400e+04  1.158000e+13  ...       0.113300     -28.625000   \n",
       "50%    2.895900e+05  5.048250e+14  ...       0.357960     -14.576000   \n",
       "75%    5.596300e+05  3.106600e+15  ...       0.622650      -5.318300   \n",
       "max    1.906700e+06  1.048900e+16  ...       1.109400       1.464200   \n",
       "\n",
       "                f111           f112           f113           f114  \\\n",
       "count  485585.000000  485449.000000  485718.000000  485532.000000   \n",
       "mean        2.075146      23.846392       1.762625   63051.287541   \n",
       "std         0.895702      45.544851      10.096886   92279.031878   \n",
       "min         0.261040     -23.938000     -26.311000  -81381.000000   \n",
       "25%         1.488500      -0.624700      -4.476575    2474.875000   \n",
       "50%         1.663100       1.730400       0.910985   19429.000000   \n",
       "75%         2.524700      18.960000       6.852075   88309.500000   \n",
       "max         4.570500     217.340000      47.314000  521540.000000   \n",
       "\n",
       "                f115          f116           f117           f118  \n",
       "count  485497.000000  4.853910e+05  485711.000000  485589.000000  \n",
       "mean        1.209049  4.284258e+16    3968.585512       0.558734  \n",
       "std         0.115074  6.743966e+16    3161.273268       0.408472  \n",
       "min         0.900700 -7.749400e+15    -416.240000      -0.186960  \n",
       "25%         1.146800  2.317850e+14    1310.000000       0.276760  \n",
       "50%         1.177200  1.330400e+16    3237.100000       0.473790  \n",
       "75%         1.242300  5.284700e+16    6157.300000       0.744970  \n",
       "max         1.877900  3.239500e+17   13198.000000       2.732000  \n",
       "\n",
       "[8 rows x 119 columns]"
      ]
     },
     "execution_count": 5,
     "metadata": {},
     "output_type": "execute_result"
    }
   ],
   "source": [
    "test_df.describe()"
   ]
  },
  {
   "cell_type": "code",
   "execution_count": 6,
   "id": "27ec9d89",
   "metadata": {
    "execution": {
     "iopub.execute_input": "2021-09-26T20:02:18.581083Z",
     "iopub.status.busy": "2021-09-26T20:02:18.580234Z",
     "iopub.status.idle": "2021-09-26T20:02:18.895700Z",
     "shell.execute_reply": "2021-09-26T20:02:18.894512Z"
    },
    "papermill": {
     "duration": 0.350127,
     "end_time": "2021-09-26T20:02:18.896347",
     "exception": false,
     "start_time": "2021-09-26T20:02:18.546220",
     "status": "completed"
    },
    "tags": []
   },
   "outputs": [],
   "source": [
    "missing_train_df = pd.DataFrame(train_df.isna().sum(axis=0))\n",
    "missing_train_df = missing_train_df.drop(['id', 'claim']).reset_index()\n",
    "missing_train_df.columns = ['feature', 'count']\n",
    "missing_train_df['count_percent'] = missing_train_df['count']/train_df.shape[0]\n",
    "\n",
    "\n",
    "missing_test_df = pd.DataFrame(test_df.isna().sum())\n",
    "missing_test_df = missing_test_df.drop(['id']).reset_index()\n",
    "missing_test_df.columns = ['feature', 'count']\n",
    "missing_test_df['count_percent'] = missing_test_df['count']/test_df.shape[0]"
   ]
  },
  {
   "cell_type": "code",
   "execution_count": 7,
   "id": "32a73a7e",
   "metadata": {
    "execution": {
     "iopub.execute_input": "2021-09-26T20:02:19.023796Z",
     "iopub.status.busy": "2021-09-26T20:02:19.016388Z",
     "iopub.status.idle": "2021-09-26T20:02:19.787803Z",
     "shell.execute_reply": "2021-09-26T20:02:19.784588Z"
    },
    "papermill": {
     "duration": 0.835347,
     "end_time": "2021-09-26T20:02:19.788005",
     "exception": false,
     "start_time": "2021-09-26T20:02:18.952658",
     "status": "completed"
    },
    "tags": []
   },
   "outputs": [],
   "source": [
    "missing_train_row = train_df.drop(['id', 'claim'], axis=1).isna().sum(axis=1)\n",
    "missing_train_feature_numbers = pd.DataFrame(missing_train_row.value_counts()/train_df.shape[0]).reset_index()\n",
    "missing_train_feature_numbers.columns = ['no_of_feature', 'count_percent']\n",
    "\n",
    "missing_test_row = test_df.drop(['id'], axis=1).isna().sum(axis=1)\n",
    "missing_test_feature_numbers = pd.DataFrame(missing_test_row.value_counts()/test_df.shape[0]).reset_index()\n",
    "missing_test_feature_numbers.columns = ['no_of_feature', 'count_percent']"
   ]
  },
  {
   "cell_type": "code",
   "execution_count": 8,
   "id": "337cb575",
   "metadata": {
    "execution": {
     "iopub.execute_input": "2021-09-26T20:02:20.052029Z",
     "iopub.status.busy": "2021-09-26T20:02:19.985614Z",
     "iopub.status.idle": "2021-09-26T20:02:21.936421Z",
     "shell.execute_reply": "2021-09-26T20:02:21.936817Z"
    },
    "papermill": {
     "duration": 2.005629,
     "end_time": "2021-09-26T20:02:21.936979",
     "exception": false,
     "start_time": "2021-09-26T20:02:19.931350",
     "status": "completed"
    },
    "tags": []
   },
   "outputs": [
    {
     "data": {
      "image/png": "[encoded data removed]",
      "text/plain": [
       "<Figure size 1152x1152 with 1 Axes>"
      ]
     },
     "metadata": {
      "needs_background": "light"
     },
     "output_type": "display_data"
    }
   ],
   "source": [
    "fig = plt.figure(figsize=(16, 16))\n",
    "ax0_sns = sns.barplot(y=missing_train_df['feature'], x=missing_train_df['count_percent'], \n",
    "                      zorder=2, linewidth=0, orient='h', saturation=1, alpha=1)\n",
    "ax0_sns.set_xlabel(\"missing values\", weight='bold')\n",
    "ax0_sns.set_ylabel(\"features\", weight='bold')\n",
    "ax0_sns.grid(which='major', axis='x', zorder=0, color='#EEEEEE')\n",
    "ax0_sns.grid(which='major', axis='y', zorder=0, color='#EEEEEE')"
   ]
  },
  {
   "cell_type": "markdown",
   "id": "c47ad44e",
   "metadata": {
    "papermill": {
     "duration": 0.030506,
     "end_time": "2021-09-26T20:02:21.998267",
     "exception": false,
     "start_time": "2021-09-26T20:02:21.967761",
     "status": "completed"
    },
    "tags": []
   },
   "source": [
    "See all less than 2%"
   ]
  },
  {
   "cell_type": "code",
   "execution_count": 9,
   "id": "ce4ff763",
   "metadata": {
    "execution": {
     "iopub.execute_input": "2021-09-26T20:02:22.091122Z",
     "iopub.status.busy": "2021-09-26T20:02:22.090264Z",
     "iopub.status.idle": "2021-09-26T20:02:22.391305Z",
     "shell.execute_reply": "2021-09-26T20:02:22.390863Z"
    },
    "papermill": {
     "duration": 0.362678,
     "end_time": "2021-09-26T20:02:22.391435",
     "exception": false,
     "start_time": "2021-09-26T20:02:22.028757",
     "status": "completed"
    },
    "tags": []
   },
   "outputs": [
    {
     "data": {
      "image/png": "[encoded data removed]",
      "text/plain": [
       "<Figure size 1152x1152 with 1 Axes>"
      ]
     },
     "metadata": {
      "needs_background": "light"
     },
     "output_type": "display_data"
    }
   ],
   "source": [
    "fig = plt.figure(figsize=(16, 16))\n",
    "ax0_sns = sns.barplot(y=missing_train_feature_numbers['no_of_feature'], x=missing_train_feature_numbers['count_percent'], \n",
    "                      zorder=2, linewidth=0, orient='h', saturation=1, alpha=1)\n",
    "ax0_sns.set_xlabel(\"missing values\", weight='bold')\n",
    "ax0_sns.set_ylabel(\"features\", weight='bold')\n",
    "ax0_sns.grid(which='major', axis='x', zorder=0, color='#EEEEEE', linewidth=0.4)\n",
    "ax0_sns.grid(which='major', axis='y', zorder=0, color='#EEEEEE', linewidth=0.4)"
   ]
  },
  {
   "cell_type": "markdown",
   "id": "9b689b2e",
   "metadata": {
    "papermill": {
     "duration": 0.031201,
     "end_time": "2021-09-26T20:02:22.454434",
     "exception": false,
     "start_time": "2021-09-26T20:02:22.423233",
     "status": "completed"
    },
    "tags": []
   },
   "source": [
    "Well can't throw the null data more than 37% "
   ]
  },
  {
   "cell_type": "code",
   "execution_count": 10,
   "id": "930261ae",
   "metadata": {
    "execution": {
     "iopub.execute_input": "2021-09-26T20:02:22.588392Z",
     "iopub.status.busy": "2021-09-26T20:02:22.587606Z",
     "iopub.status.idle": "2021-09-26T20:02:24.386450Z",
     "shell.execute_reply": "2021-09-26T20:02:24.386028Z"
    },
    "papermill": {
     "duration": 1.838283,
     "end_time": "2021-09-26T20:02:24.386569",
     "exception": false,
     "start_time": "2021-09-26T20:02:22.548286",
     "status": "completed"
    },
    "tags": []
   },
   "outputs": [
    {
     "data": {
      "image/png": "[encoded data removed]",
      "text/plain": [
       "<Figure size 1152x1152 with 1 Axes>"
      ]
     },
     "metadata": {
      "needs_background": "light"
     },
     "output_type": "display_data"
    }
   ],
   "source": [
    "fig = plt.figure(figsize=(16, 16))\n",
    "ax0_sns = sns.barplot(y=missing_test_df['feature'], x=missing_train_df['count_percent'], \n",
    "                      zorder=2, linewidth=0, orient='h', saturation=1, alpha=1)\n",
    "ax0_sns.set_xlabel(\"missing values\", weight='bold')\n",
    "ax0_sns.set_ylabel(\"features\", weight='bold')\n",
    "ax0_sns.grid(which='major', axis='x', zorder=0, color='#EEEEEE')\n",
    "ax0_sns.grid(which='major', axis='y', zorder=0, color='#EEEEEE')"
   ]
  },
  {
   "cell_type": "code",
   "execution_count": 11,
   "id": "16cedfe7",
   "metadata": {
    "execution": {
     "iopub.execute_input": "2021-09-26T20:02:24.498990Z",
     "iopub.status.busy": "2021-09-26T20:02:24.491163Z",
     "iopub.status.idle": "2021-09-26T20:02:24.798371Z",
     "shell.execute_reply": "2021-09-26T20:02:24.797773Z"
    },
    "papermill": {
     "duration": 0.37882,
     "end_time": "2021-09-26T20:02:24.798500",
     "exception": false,
     "start_time": "2021-09-26T20:02:24.419680",
     "status": "completed"
    },
    "tags": []
   },
   "outputs": [
    {
     "data": {
      "image/png": "[encoded data removed]",
      "text/plain": [
       "<Figure size 1152x1152 with 1 Axes>"
      ]
     },
     "metadata": {
      "needs_background": "light"
     },
     "output_type": "display_data"
    }
   ],
   "source": [
    "fig = plt.figure(figsize=(16, 16))\n",
    "ax0_sns = sns.barplot(y=missing_test_feature_numbers['no_of_feature'], x=missing_test_feature_numbers['count_percent'], \n",
    "                      zorder=2, linewidth=0, orient='h', saturation=1, alpha=1)\n",
    "ax0_sns.set_xlabel(\"missing values\", weight='bold')\n",
    "ax0_sns.set_ylabel(\"features\", weight='bold')\n",
    "ax0_sns.grid(which='major', axis='x', zorder=0, color='#EEEEEE', linewidth=0.4)\n",
    "ax0_sns.grid(which='major', axis='y', zorder=0, color='#EEEEEE', linewidth=0.4)"
   ]
  },
  {
   "cell_type": "code",
   "execution_count": 12,
   "id": "e8df9f19",
   "metadata": {
    "execution": {
     "iopub.execute_input": "2021-09-26T20:02:25.263402Z",
     "iopub.status.busy": "2021-09-26T20:02:25.262436Z",
     "iopub.status.idle": "2021-09-26T20:02:25.669323Z",
     "shell.execute_reply": "2021-09-26T20:02:25.668818Z"
    },
    "papermill": {
     "duration": 0.701708,
     "end_time": "2021-09-26T20:02:25.669460",
     "exception": false,
     "start_time": "2021-09-26T20:02:24.967752",
     "status": "completed"
    },
    "tags": []
   },
   "outputs": [],
   "source": [
    "train_df['num_nulls'] = train_df.drop(['id', 'claim'], axis = 1).isna().sum(axis = 1)\n",
    "test_df['num_nulls'] = test_df.drop(['id'], axis = 1).isna().sum(axis = 1)"
   ]
  },
  {
   "cell_type": "code",
   "execution_count": 13,
   "id": "50826f94",
   "metadata": {
    "execution": {
     "iopub.execute_input": "2021-09-26T20:02:25.742828Z",
     "iopub.status.busy": "2021-09-26T20:02:25.742198Z",
     "iopub.status.idle": "2021-09-26T20:02:25.759154Z",
     "shell.execute_reply": "2021-09-26T20:02:25.758629Z"
    },
    "papermill": {
     "duration": 0.055543,
     "end_time": "2021-09-26T20:02:25.759266",
     "exception": false,
     "start_time": "2021-09-26T20:02:25.703723",
     "status": "completed"
    },
    "tags": []
   },
   "outputs": [
    {
     "data": {
      "text/plain": [
       "0.452653382025988"
      ]
     },
     "execution_count": 13,
     "metadata": {},
     "output_type": "execute_result"
    }
   ],
   "source": [
    "train_df['num_nulls'].corr(train_df['claim'])"
   ]
  },
  {
   "cell_type": "code",
   "execution_count": 14,
   "id": "2dc84de5",
   "metadata": {
    "execution": {
     "iopub.execute_input": "2021-09-26T20:02:25.969982Z",
     "iopub.status.busy": "2021-09-26T20:02:25.969229Z",
     "iopub.status.idle": "2021-09-26T20:02:25.980515Z",
     "shell.execute_reply": "2021-09-26T20:02:25.980879Z"
    },
    "papermill": {
     "duration": 0.050811,
     "end_time": "2021-09-26T20:02:25.981028",
     "exception": false,
     "start_time": "2021-09-26T20:02:25.930217",
     "status": "completed"
    },
    "tags": []
   },
   "outputs": [
    {
     "data": {
      "text/plain": [
       "0    480404\n",
       "1    477515\n",
       "Name: claim, dtype: int64"
      ]
     },
     "execution_count": 14,
     "metadata": {},
     "output_type": "execute_result"
    }
   ],
   "source": [
    "train_df.claim.value_counts()"
   ]
  },
  {
   "cell_type": "markdown",
   "id": "01ca05f3",
   "metadata": {
    "papermill": {
     "duration": 0.034285,
     "end_time": "2021-09-26T20:02:26.049896",
     "exception": false,
     "start_time": "2021-09-26T20:02:26.015611",
     "status": "completed"
    },
    "tags": []
   },
   "source": [
    "Good to go. No Imbalance Class"
   ]
  },
  {
   "cell_type": "code",
   "execution_count": 15,
   "id": "eb490aa7",
   "metadata": {
    "execution": {
     "iopub.execute_input": "2021-09-26T20:02:26.202212Z",
     "iopub.status.busy": "2021-09-26T20:02:26.201318Z",
     "iopub.status.idle": "2021-09-26T20:02:30.485628Z",
     "shell.execute_reply": "2021-09-26T20:02:30.485171Z"
    },
    "papermill": {
     "duration": 4.331944,
     "end_time": "2021-09-26T20:02:30.485753",
     "exception": false,
     "start_time": "2021-09-26T20:02:26.153809",
     "status": "completed"
    },
    "tags": []
   },
   "outputs": [],
   "source": [
    "from scipy.stats import skew\n",
    "\n",
    "def impute_skewed_features(data):\n",
    "    skewed_feat = data.skew()\n",
    "    skewed_feat = [*skewed_feat[abs(skewed_feat.values) > 1].index]\n",
    "\n",
    "    for feat in skewed_feat:\n",
    "        median = data[feat].median()\n",
    "        data[feat] = data[feat].fillna(median)\n",
    "        \n",
    "    return data\n",
    "\n",
    "train_df = impute_skewed_features(train_df)\n",
    "test_df = impute_skewed_features(test_df)"
   ]
  },
  {
   "cell_type": "code",
   "execution_count": 16,
   "id": "bec7ee76",
   "metadata": {
    "execution": {
     "iopub.execute_input": "2021-09-26T20:02:30.563520Z",
     "iopub.status.busy": "2021-09-26T20:02:30.562880Z",
     "iopub.status.idle": "2021-09-26T20:03:46.414666Z",
     "shell.execute_reply": "2021-09-26T20:03:46.415306Z"
    },
    "papermill": {
     "duration": 75.89348,
     "end_time": "2021-09-26T20:03:46.415519",
     "exception": false,
     "start_time": "2021-09-26T20:02:30.522039",
     "status": "completed"
    },
    "tags": []
   },
   "outputs": [
    {
     "name": "stdout",
     "output_type": "stream",
     "text": [
      "CPU times: user 1min 10s, sys: 5.43 s, total: 1min 15s\n",
      "Wall time: 1min 15s\n"
     ]
    }
   ],
   "source": [
    "%%time\n",
    "from sklearn.pipeline import Pipeline\n",
    "from sklearn.preprocessing import QuantileTransformer,  KBinsDiscretizer\n",
    "from sklearn.impute import SimpleImputer\n",
    "\n",
    "features = [col for col in train_df.columns if col not in ['claim', 'id']]\n",
    "pipe = Pipeline([\n",
    "        ('imputer', SimpleImputer(strategy='mean',missing_values=np.nan)),\n",
    "        (\"scaler\", QuantileTransformer(n_quantiles=64,output_distribution='uniform')),\n",
    "        ('bin', KBinsDiscretizer(n_bins=64, encode='ordinal',strategy='uniform'))\n",
    "        ])\n",
    "train_df[features] = pipe.fit_transform(train_df[features])\n",
    "test_df[features] = pipe.transform(test_df[features])"
   ]
  },
  {
   "cell_type": "code",
   "execution_count": 17,
   "id": "64cef390",
   "metadata": {
    "execution": {
     "iopub.execute_input": "2021-09-26T20:03:46.561603Z",
     "iopub.status.busy": "2021-09-26T20:03:46.561095Z",
     "iopub.status.idle": "2021-09-26T20:03:48.878601Z",
     "shell.execute_reply": "2021-09-26T20:03:48.878136Z",
     "shell.execute_reply.started": "2021-09-26T16:21:34.965217Z"
    },
    "papermill": {
     "duration": 2.357347,
     "end_time": "2021-09-26T20:03:48.878728",
     "exception": false,
     "start_time": "2021-09-26T20:03:46.521381",
     "status": "completed"
    },
    "tags": []
   },
   "outputs": [
    {
     "data": {
      "text/html": [
       "<style type='text/css'>\n",
       ".datatable table.frame { margin-bottom: 0; }\n",
       ".datatable table.frame thead { border-bottom: none; }\n",
       ".datatable table.frame tr.coltypes td {  color: #FFFFFF;  line-height: 6px;  padding: 0 0.5em;}\n",
       ".datatable .bool    { background: #DDDD99; }\n",
       ".datatable .object  { background: #565656; }\n",
       ".datatable .int     { background: #5D9E5D; }\n",
       ".datatable .float   { background: #4040CC; }\n",
       ".datatable .str     { background: #CC4040; }\n",
       ".datatable .time    { background: #40CC40; }\n",
       ".datatable .row_index {  background: var(--jp-border-color3);  border-right: 1px solid var(--jp-border-color0);  color: var(--jp-ui-font-color3);  font-size: 9px;}\n",
       ".datatable .frame tbody td { text-align: left; }\n",
       ".datatable .frame tr.coltypes .row_index {  background: var(--jp-border-color0);}\n",
       ".datatable th:nth-child(2) { padding-left: 12px; }\n",
       ".datatable .hellipsis {  color: var(--jp-cell-editor-border-color);}\n",
       ".datatable .vellipsis {  background: var(--jp-layout-color0);  color: var(--jp-cell-editor-border-color);}\n",
       ".datatable .na {  color: var(--jp-cell-editor-border-color);  font-size: 80%;}\n",
       ".datatable .sp {  opacity: 0.25;}\n",
       ".datatable .footer { font-size: 9px; }\n",
       ".datatable .frame_dimensions {  background: var(--jp-border-color3);  border-top: 1px solid var(--jp-border-color0);  color: var(--jp-ui-font-color3);  display: inline-block;  opacity: 0.6;  padding: 1px 10px 1px 5px;}\n",
       "</style>\n"
      ],
      "text/plain": [
       "<IPython.core.display.HTML object>"
      ]
     },
     "metadata": {},
     "output_type": "display_data"
    }
   ],
   "source": [
    "# import packages\n",
    "from sklearn.metrics import roc_auc_score\n",
    "from sklearn.model_selection import StratifiedKFold, train_test_split\n",
    "from sklearn.linear_model import LinearRegression\n",
    "from xgboost import XGBClassifier \n",
    "from catboost import CatBoostClassifier\n",
    "from lightgbm import LGBMClassifier\n",
    "from tqdm import tqdm\n",
    "from sklearn import metrics\n",
    "from sklearn.metrics import roc_curve, auc\n",
    "from sklearn.linear_model import LogisticRegression\n",
    "from sklearn.ensemble import RandomForestClassifier\n",
    "from sklearn.svm import SVC"
   ]
  },
  {
   "cell_type": "code",
   "execution_count": 18,
   "id": "ba33d885",
   "metadata": {
    "execution": {
     "iopub.execute_input": "2021-09-26T20:03:48.955749Z",
     "iopub.status.busy": "2021-09-26T20:03:48.954986Z",
     "iopub.status.idle": "2021-09-26T20:03:48.957411Z",
     "shell.execute_reply": "2021-09-26T20:03:48.956992Z",
     "shell.execute_reply.started": "2021-09-26T16:21:50.35889Z"
    },
    "papermill": {
     "duration": 0.041816,
     "end_time": "2021-09-26T20:03:48.957514",
     "exception": false,
     "start_time": "2021-09-26T20:03:48.915698",
     "status": "completed"
    },
    "tags": []
   },
   "outputs": [],
   "source": [
    "N_SPLITS = 5\n",
    "EARLY_STOPPING_ROUNDS = 200\n",
    "SEED = 42\n",
    "TRAINING_METHODS = {\n",
    "    'XGB' : True,\n",
    "    'LGDM' : True,\n",
    "    'CAT' : True\n",
    "}"
   ]
  },
  {
   "cell_type": "code",
   "execution_count": 19,
   "id": "adfe964f",
   "metadata": {
    "execution": {
     "iopub.execute_input": "2021-09-26T20:03:49.109866Z",
     "iopub.status.busy": "2021-09-26T20:03:49.109123Z",
     "iopub.status.idle": "2021-09-26T20:03:49.111069Z",
     "shell.execute_reply": "2021-09-26T20:03:49.111426Z",
     "shell.execute_reply.started": "2021-09-26T16:21:03.03062Z"
    },
    "papermill": {
     "duration": 0.047475,
     "end_time": "2021-09-26T20:03:49.111546",
     "exception": false,
     "start_time": "2021-09-26T20:03:49.064071",
     "status": "completed"
    },
    "tags": []
   },
   "outputs": [],
   "source": [
    "def cross_validate(\n",
    "    model,\n",
    "    train_df,\n",
    "    test_df,\n",
    "    early_stopping='True'\n",
    "):\n",
    "    train_oof = np.zeros(len(train_df))\n",
    "    predictions = np.zeros(len(test_df))\n",
    "\n",
    "    skf = StratifiedKFold(n_splits=N_SPLITS, shuffle=True, random_state=SEED)\n",
    "\n",
    "    for fold, (train_idx, valid_idx) in tqdm(enumerate(skf.split(train_df.drop(['claim', 'id'],axis=1), train_df['claim']))):\n",
    "        X_train, X_valid = train_df.iloc[train_idx], train_df.iloc[valid_idx]\n",
    "        y_train = X_train['claim']\n",
    "        y_valid = X_valid['claim']\n",
    "        X_train = X_train.drop(['claim', 'id'], axis=1)\n",
    "        X_valid = X_valid.drop(['claim', 'id'], axis=1)\n",
    "        \n",
    "        if early_stopping:\n",
    "            model.fit(\n",
    "                X_train, \n",
    "                y_train,\n",
    "                eval_set=[(X_valid, y_valid)],\n",
    "                early_stopping_rounds=EARLY_STOPPING_ROUNDS,\n",
    "                verbose=0\n",
    "            )\n",
    "        else:\n",
    "            model.fit(\n",
    "                X_train, \n",
    "                y_train\n",
    "            )\n",
    "         \n",
    "        temp_oof = model.predict_proba(X_valid)[:, 1]\n",
    "        train_oof[valid_idx] = temp_oof\n",
    "        print(f'Fold {fold} AUC: ', roc_auc_score(y_valid, temp_oof))\n",
    "        predictions += model.predict_proba(test_df)[:, -1] / N_SPLITS\n",
    "\n",
    "    print(f'OOF AUC: ', roc_auc_score(train_df['claim'], train_oof))\n",
    "    \n",
    "    return train_oof, predictions, model    "
   ]
  },
  {
   "cell_type": "code",
   "execution_count": 20,
   "id": "4a073db1",
   "metadata": {
    "execution": {
     "iopub.execute_input": "2021-09-26T20:03:49.186937Z",
     "iopub.status.busy": "2021-09-26T20:03:49.185865Z",
     "iopub.status.idle": "2021-09-26T20:03:49.614584Z",
     "shell.execute_reply": "2021-09-26T20:03:49.614134Z"
    },
    "papermill": {
     "duration": 0.467945,
     "end_time": "2021-09-26T20:03:49.614706",
     "exception": false,
     "start_time": "2021-09-26T20:03:49.146761",
     "status": "completed"
    },
    "tags": []
   },
   "outputs": [],
   "source": [
    "test_df = test_df.drop('id', axis=1)"
   ]
  },
  {
   "cell_type": "code",
   "execution_count": 21,
   "id": "caf025e7",
   "metadata": {
    "execution": {
     "iopub.execute_input": "2021-09-26T20:03:49.762012Z",
     "iopub.status.busy": "2021-09-26T20:03:49.761202Z",
     "iopub.status.idle": "2021-09-26T20:03:49.763574Z",
     "shell.execute_reply": "2021-09-26T20:03:49.763189Z"
    },
    "papermill": {
     "duration": 0.042286,
     "end_time": "2021-09-26T20:03:49.763673",
     "exception": false,
     "start_time": "2021-09-26T20:03:49.721387",
     "status": "completed"
    },
    "tags": []
   },
   "outputs": [],
   "source": [
    "xgb_params = {\n",
    "        'n_estimators': 16939, \n",
    "        'learning_rate': 0.1876042995729744, \n",
    "        'subsample': 0.9947704250490819, \n",
    "        'colsample_bytree': 0.714913373260802, \n",
    "        'max_depth': 1, \n",
    "        'min_child_weight': 300, \n",
    "        'reg_lambda': 2.520228860596293e-05, \n",
    "        'reg_alpha': 0.00045044167069949973,\n",
    "        'tree_method': 'gpu_hist'\n",
    "}"
   ]
  },
  {
   "cell_type": "code",
   "execution_count": 22,
   "id": "3a29fd6b",
   "metadata": {
    "execution": {
     "iopub.execute_input": "2021-09-26T20:03:49.839855Z",
     "iopub.status.busy": "2021-09-26T20:03:49.839107Z",
     "iopub.status.idle": "2021-09-26T20:10:03.544613Z",
     "shell.execute_reply": "2021-09-26T20:10:03.545180Z"
    },
    "papermill": {
     "duration": 373.746463,
     "end_time": "2021-09-26T20:10:03.545393",
     "exception": false,
     "start_time": "2021-09-26T20:03:49.798930",
     "status": "completed"
    },
    "tags": []
   },
   "outputs": [
    {
     "name": "stderr",
     "output_type": "stream",
     "text": [
      "0it [00:00, ?it/s]"
     ]
    },
    {
     "name": "stdout",
     "output_type": "stream",
     "text": [
      "[20:03:55] WARNING: ../src/learner.cc:1095: Starting in XGBoost 1.3.0, the default evaluation metric used with the objective 'binary:logistic' was changed from 'error' to 'logloss'. Explicitly set eval_metric if you'd like to restore the old behavior.\n",
      "Fold 0 AUC:  0.8155941160471778\n"
     ]
    },
    {
     "name": "stderr",
     "output_type": "stream",
     "text": [
      "1it [01:09, 69.01s/it]"
     ]
    },
    {
     "name": "stdout",
     "output_type": "stream",
     "text": [
      "[20:05:02] WARNING: ../src/learner.cc:1095: Starting in XGBoost 1.3.0, the default evaluation metric used with the objective 'binary:logistic' was changed from 'error' to 'logloss'. Explicitly set eval_metric if you'd like to restore the old behavior.\n",
      "Fold 1 AUC:  0.8164562385984663\n"
     ]
    },
    {
     "name": "stderr",
     "output_type": "stream",
     "text": [
      "2it [02:18, 69.26s/it]"
     ]
    },
    {
     "name": "stdout",
     "output_type": "stream",
     "text": [
      "[20:06:12] WARNING: ../src/learner.cc:1095: Starting in XGBoost 1.3.0, the default evaluation metric used with the objective 'binary:logistic' was changed from 'error' to 'logloss'. Explicitly set eval_metric if you'd like to restore the old behavior.\n",
      "Fold 2 AUC:  0.8156655686739759\n"
     ]
    },
    {
     "name": "stderr",
     "output_type": "stream",
     "text": [
      "3it [03:28, 69.77s/it]"
     ]
    },
    {
     "name": "stdout",
     "output_type": "stream",
     "text": [
      "[20:07:22] WARNING: ../src/learner.cc:1095: Starting in XGBoost 1.3.0, the default evaluation metric used with the objective 'binary:logistic' was changed from 'error' to 'logloss'. Explicitly set eval_metric if you'd like to restore the old behavior.\n",
      "Fold 3 AUC:  0.8156565375290791\n"
     ]
    },
    {
     "name": "stderr",
     "output_type": "stream",
     "text": [
      "4it [04:50, 74.32s/it]"
     ]
    },
    {
     "name": "stdout",
     "output_type": "stream",
     "text": [
      "[20:08:44] WARNING: ../src/learner.cc:1095: Starting in XGBoost 1.3.0, the default evaluation metric used with the objective 'binary:logistic' was changed from 'error' to 'logloss'. Explicitly set eval_metric if you'd like to restore the old behavior.\n",
      "Fold 4 AUC:  0.8148720940738308\n"
     ]
    },
    {
     "name": "stderr",
     "output_type": "stream",
     "text": [
      "5it [06:12, 74.50s/it]\n"
     ]
    },
    {
     "name": "stdout",
     "output_type": "stream",
     "text": [
      "OOF AUC:  0.8156473334981275\n",
      "CPU times: user 7min 20s, sys: 4.82 s, total: 7min 25s\n",
      "Wall time: 6min 13s\n"
     ]
    }
   ],
   "source": [
    "%%time\n",
    "if TRAINING_METHODS['XGB']:\n",
    "    xg_train_oof, xg_predictions, model = cross_validate(\n",
    "                                            XGBClassifier(**xgb_params),\n",
    "                                        train_df,\n",
    "                                        test_df,\n",
    "                                    )\n",
    "    model.save_model('xgb_model')\n",
    "    np.save('xg_train_oof', xg_train_oof)\n",
    "    np.save('xg_predictions', xg_predictions)"
   ]
  },
  {
   "cell_type": "code",
   "execution_count": 23,
   "id": "d398929e",
   "metadata": {
    "execution": {
     "iopub.execute_input": "2021-09-26T20:10:03.716606Z",
     "iopub.status.busy": "2021-09-26T20:10:03.715970Z",
     "iopub.status.idle": "2021-09-26T20:10:03.719138Z",
     "shell.execute_reply": "2021-09-26T20:10:03.718714Z"
    },
    "papermill": {
     "duration": 0.049157,
     "end_time": "2021-09-26T20:10:03.719245",
     "exception": false,
     "start_time": "2021-09-26T20:10:03.670088",
     "status": "completed"
    },
    "tags": []
   },
   "outputs": [],
   "source": [
    "lgb_params = {\n",
    "            'n_estimators': 12000, \n",
    "            'learning_rate': 0.027934730713420564, \n",
    "            'reg_alpha': 1.1799328678792862e-05, \n",
    "            'reg_lambda': 0.38585046073832296, \n",
    "            'num_leaves': 23, \n",
    "            'feature_fraction': 0.5301717514985537, \n",
    "            'bagging_fraction': 0.7745063435612487, \n",
    "            'bagging_freq': 6, \n",
    "            'min_child_samples': 19, \n",
    "            'min_child_weight': 193, \n",
    "            'colsample_bytree': 0.5145963018815463,\n",
    "            \"objective\": \"binary\",\n",
    "            \"metric\": \"binary_logloss\",\n",
    "            \"boosting_type\": \"gbdt\",\n",
    "            \"device_type\" : \"gpu\"\n",
    "}"
   ]
  },
  {
   "cell_type": "code",
   "execution_count": 24,
   "id": "7182c211",
   "metadata": {
    "execution": {
     "iopub.execute_input": "2021-09-26T20:10:03.816268Z",
     "iopub.status.busy": "2021-09-26T20:10:03.815421Z",
     "iopub.status.idle": "2021-09-26T20:31:31.134223Z",
     "shell.execute_reply": "2021-09-26T20:31:31.134786Z"
    },
    "papermill": {
     "duration": 1287.367644,
     "end_time": "2021-09-26T20:31:31.135031",
     "exception": false,
     "start_time": "2021-09-26T20:10:03.767387",
     "status": "completed"
    },
    "tags": []
   },
   "outputs": [
    {
     "name": "stderr",
     "output_type": "stream",
     "text": [
      "0it [00:00, ?it/s]"
     ]
    },
    {
     "name": "stdout",
     "output_type": "stream",
     "text": [
      "[LightGBM] [Warning] bagging_fraction is set=0.7745063435612487, subsample=1.0 will be ignored. Current value: bagging_fraction=0.7745063435612487\n",
      "[LightGBM] [Warning] feature_fraction is set=0.5301717514985537, colsample_bytree=0.5145963018815463 will be ignored. Current value: feature_fraction=0.5301717514985537\n",
      "[LightGBM] [Warning] bagging_freq is set=6, subsample_freq=0 will be ignored. Current value: bagging_freq=6\n",
      "Fold 0 AUC:  0.815137946619413\n"
     ]
    },
    {
     "name": "stderr",
     "output_type": "stream",
     "text": [
      "1it [04:45, 285.42s/it]"
     ]
    },
    {
     "name": "stdout",
     "output_type": "stream",
     "text": [
      "[LightGBM] [Warning] bagging_fraction is set=0.7745063435612487, subsample=1.0 will be ignored. Current value: bagging_fraction=0.7745063435612487\n",
      "[LightGBM] [Warning] feature_fraction is set=0.5301717514985537, colsample_bytree=0.5145963018815463 will be ignored. Current value: feature_fraction=0.5301717514985537\n",
      "[LightGBM] [Warning] bagging_freq is set=6, subsample_freq=0 will be ignored. Current value: bagging_freq=6\n",
      "Fold 1 AUC:  0.8163622332292388\n"
     ]
    },
    {
     "name": "stderr",
     "output_type": "stream",
     "text": [
      "2it [09:36, 288.97s/it]"
     ]
    },
    {
     "name": "stdout",
     "output_type": "stream",
     "text": [
      "[LightGBM] [Warning] bagging_fraction is set=0.7745063435612487, subsample=1.0 will be ignored. Current value: bagging_fraction=0.7745063435612487\n",
      "[LightGBM] [Warning] feature_fraction is set=0.5301717514985537, colsample_bytree=0.5145963018815463 will be ignored. Current value: feature_fraction=0.5301717514985537\n",
      "[LightGBM] [Warning] bagging_freq is set=6, subsample_freq=0 will be ignored. Current value: bagging_freq=6\n",
      "Fold 2 AUC:  0.8154400451184621\n"
     ]
    },
    {
     "name": "stderr",
     "output_type": "stream",
     "text": [
      "3it [13:41, 268.92s/it]"
     ]
    },
    {
     "name": "stdout",
     "output_type": "stream",
     "text": [
      "[LightGBM] [Warning] bagging_fraction is set=0.7745063435612487, subsample=1.0 will be ignored. Current value: bagging_fraction=0.7745063435612487\n",
      "[LightGBM] [Warning] feature_fraction is set=0.5301717514985537, colsample_bytree=0.5145963018815463 will be ignored. Current value: feature_fraction=0.5301717514985537\n",
      "[LightGBM] [Warning] bagging_freq is set=6, subsample_freq=0 will be ignored. Current value: bagging_freq=6\n",
      "Fold 3 AUC:  0.8152899013264902\n"
     ]
    },
    {
     "name": "stderr",
     "output_type": "stream",
     "text": [
      "4it [17:40, 256.90s/it]"
     ]
    },
    {
     "name": "stdout",
     "output_type": "stream",
     "text": [
      "[LightGBM] [Warning] bagging_fraction is set=0.7745063435612487, subsample=1.0 will be ignored. Current value: bagging_fraction=0.7745063435612487\n",
      "[LightGBM] [Warning] feature_fraction is set=0.5301717514985537, colsample_bytree=0.5145963018815463 will be ignored. Current value: feature_fraction=0.5301717514985537\n",
      "[LightGBM] [Warning] bagging_freq is set=6, subsample_freq=0 will be ignored. Current value: bagging_freq=6\n",
      "Fold 4 AUC:  0.8145510591961648\n"
     ]
    },
    {
     "name": "stderr",
     "output_type": "stream",
     "text": [
      "5it [21:26, 257.30s/it]\n"
     ]
    },
    {
     "name": "stdout",
     "output_type": "stream",
     "text": [
      "OOF AUC:  0.8153500138904857\n",
      "CPU times: user 40min 24s, sys: 14.8 s, total: 40min 39s\n",
      "Wall time: 21min 27s\n"
     ]
    }
   ],
   "source": [
    "%%time\n",
    "if TRAINING_METHODS['LGDM']:\n",
    "    lgd_train_oof, lgd_predictions, model = cross_validate(\n",
    "                                            LGBMClassifier(**lgb_params),\n",
    "                                        train_df,\n",
    "                                        test_df,\n",
    "                                    )\n",
    "    np.save('lgd_train_oof', lgd_train_oof)\n",
    "    np.save('lgd_predictions', lgd_predictions)\n",
    "    model.booster_.save_model('lgdm_model', num_iteration=model.best_iteration_)"
   ]
  },
  {
   "cell_type": "code",
   "execution_count": 25,
   "id": "2cc06c9f",
   "metadata": {
    "execution": {
     "iopub.execute_input": "2021-09-26T20:31:31.346260Z",
     "iopub.status.busy": "2021-09-26T20:31:31.343946Z",
     "iopub.status.idle": "2021-09-26T20:31:31.348635Z",
     "shell.execute_reply": "2021-09-26T20:31:31.348211Z"
    },
    "papermill": {
     "duration": 0.05925,
     "end_time": "2021-09-26T20:31:31.348748",
     "exception": false,
     "start_time": "2021-09-26T20:31:31.289498",
     "status": "completed"
    },
    "tags": []
   },
   "outputs": [],
   "source": [
    "cat_params = {\n",
    "        'iterations': 12000, \n",
    "        'objective': 'Logloss', \n",
    "        'bootstrap_type': 'Bayesian', \n",
    "        'od_wait': 1491, \n",
    "        'learning_rate': 0.07733510576652604, \n",
    "        'reg_lambda': 6.067283648607877, \n",
    "        'random_strength': 19.03761597798964, \n",
    "        'depth': 4, \n",
    "        'min_data_in_leaf': 17, \n",
    "        'leaf_estimation_iterations': 8, \n",
    "        'bagging_temperature': 0.7761781866167776,\n",
    "        'task_type' : 'GPU'\n",
    "}"
   ]
  },
  {
   "cell_type": "code",
   "execution_count": 26,
   "id": "a3665e5b",
   "metadata": {
    "execution": {
     "iopub.execute_input": "2021-09-26T20:31:31.454834Z",
     "iopub.status.busy": "2021-09-26T20:31:31.454079Z",
     "iopub.status.idle": "2021-09-26T20:35:23.005070Z",
     "shell.execute_reply": "2021-09-26T20:35:23.005737Z"
    },
    "papermill": {
     "duration": 231.609245,
     "end_time": "2021-09-26T20:35:23.005969",
     "exception": false,
     "start_time": "2021-09-26T20:31:31.396724",
     "status": "completed"
    },
    "tags": []
   },
   "outputs": [
    {
     "name": "stderr",
     "output_type": "stream",
     "text": [
      "0it [00:00, ?it/s]"
     ]
    },
    {
     "name": "stdout",
     "output_type": "stream",
     "text": [
      "Fold 0 AUC:  0.8150058791756114\n"
     ]
    },
    {
     "name": "stderr",
     "output_type": "stream",
     "text": [
      "1it [01:27, 87.16s/it]"
     ]
    },
    {
     "name": "stdout",
     "output_type": "stream",
     "text": [
      "Fold 1 AUC:  0.8161535175530767\n"
     ]
    },
    {
     "name": "stderr",
     "output_type": "stream",
     "text": [
      "2it [02:04, 58.13s/it]"
     ]
    },
    {
     "name": "stdout",
     "output_type": "stream",
     "text": [
      "Fold 2 AUC:  0.8152823004307259\n"
     ]
    },
    {
     "name": "stderr",
     "output_type": "stream",
     "text": [
      "3it [02:37, 46.38s/it]"
     ]
    },
    {
     "name": "stdout",
     "output_type": "stream",
     "text": [
      "Fold 3 AUC:  0.8152679165315888\n"
     ]
    },
    {
     "name": "stderr",
     "output_type": "stream",
     "text": [
      "4it [03:11, 41.64s/it]"
     ]
    },
    {
     "name": "stdout",
     "output_type": "stream",
     "text": [
      "Fold 4 AUC:  0.8142833259559143\n"
     ]
    },
    {
     "name": "stderr",
     "output_type": "stream",
     "text": [
      "5it [03:50, 46.18s/it]\n"
     ]
    },
    {
     "name": "stdout",
     "output_type": "stream",
     "text": [
      "OOF AUC:  0.8151956351412143\n",
      "CPU times: user 4min 22s, sys: 1min 19s, total: 5min 42s\n",
      "Wall time: 3min 51s\n"
     ]
    }
   ],
   "source": [
    "%%time\n",
    "if TRAINING_METHODS['LGDM']:\n",
    "    cat_train_oof, cat_predictions, model = cross_validate(\n",
    "                                            CatBoostClassifier(**cat_params),\n",
    "                                        train_df,\n",
    "                                        test_df,\n",
    "                                    )\n",
    "    np.save('cat_train_oof', cat_train_oof)\n",
    "    np.save('cat_predictions', cat_predictions)\n",
    "    model.save_model('cat_boost')\n"
   ]
  },
  {
   "cell_type": "code",
   "execution_count": 27,
   "id": "ce2a63c6",
   "metadata": {
    "execution": {
     "iopub.execute_input": "2021-09-26T20:35:23.331933Z",
     "iopub.status.busy": "2021-09-26T20:35:23.331399Z",
     "iopub.status.idle": "2021-09-26T20:35:23.343095Z",
     "shell.execute_reply": "2021-09-26T20:35:23.342673Z",
     "shell.execute_reply.started": "2021-09-26T16:20:58.891989Z"
    },
    "papermill": {
     "duration": 0.066534,
     "end_time": "2021-09-26T20:35:23.343208",
     "exception": false,
     "start_time": "2021-09-26T20:35:23.276674",
     "status": "completed"
    },
    "tags": []
   },
   "outputs": [],
   "source": [
    "cols = [\"lgb\", \"xgb\", \"cat\"]\n",
    "df_oof = pd.DataFrame(\n",
    "    dict(\n",
    "        zip(cols, [lgd_train_oof, xg_train_oof, cat_train_oof])\n",
    "    )\n",
    ")\n",
    "df_pred = pd.DataFrame(\n",
    "    dict(\n",
    "        zip(cols, [lgd_predictions, xg_predictions, cat_predictions])\n",
    "    )\n",
    ")"
   ]
  },
  {
   "cell_type": "code",
   "execution_count": 28,
   "id": "8c07db60",
   "metadata": {
    "execution": {
     "iopub.execute_input": "2021-09-26T20:35:23.446713Z",
     "iopub.status.busy": "2021-09-26T20:35:23.445935Z",
     "iopub.status.idle": "2021-09-26T20:35:23.451166Z",
     "shell.execute_reply": "2021-09-26T20:35:23.450765Z",
     "shell.execute_reply.started": "2021-09-26T16:21:24.735135Z"
    },
    "papermill": {
     "duration": 0.05884,
     "end_time": "2021-09-26T20:35:23.451269",
     "exception": false,
     "start_time": "2021-09-26T20:35:23.392429",
     "status": "completed"
    },
    "tags": []
   },
   "outputs": [],
   "source": [
    "df_oof['claim'] = train_df['claim']\n",
    "df_oof['id'] = df_oof.index"
   ]
  },
  {
   "cell_type": "code",
   "execution_count": 29,
   "id": "83c8764b",
   "metadata": {
    "execution": {
     "iopub.execute_input": "2021-09-26T20:35:23.660290Z",
     "iopub.status.busy": "2021-09-26T20:35:23.659494Z",
     "iopub.status.idle": "2021-09-26T20:37:22.199052Z",
     "shell.execute_reply": "2021-09-26T20:37:22.199637Z",
     "shell.execute_reply.started": "2021-09-26T16:23:17.172261Z"
    },
    "papermill": {
     "duration": 118.597506,
     "end_time": "2021-09-26T20:37:22.199870",
     "exception": false,
     "start_time": "2021-09-26T20:35:23.602364",
     "status": "completed"
    },
    "tags": []
   },
   "outputs": [
    {
     "name": "stderr",
     "output_type": "stream",
     "text": [
      "0it [00:00, ?it/s]"
     ]
    },
    {
     "name": "stdout",
     "output_type": "stream",
     "text": [
      "Fold 0 AUC:  0.8155778755704556\n"
     ]
    },
    {
     "name": "stderr",
     "output_type": "stream",
     "text": [
      "1it [00:17, 17.24s/it]"
     ]
    },
    {
     "name": "stdout",
     "output_type": "stream",
     "text": [
      "Fold 1 AUC:  0.8166684355210696\n"
     ]
    },
    {
     "name": "stderr",
     "output_type": "stream",
     "text": [
      "2it [00:28, 13.91s/it]"
     ]
    },
    {
     "name": "stdout",
     "output_type": "stream",
     "text": [
      "Fold 2 AUC:  0.8157991745292283\n"
     ]
    },
    {
     "name": "stderr",
     "output_type": "stream",
     "text": [
      "3it [00:40, 12.73s/it]"
     ]
    },
    {
     "name": "stdout",
     "output_type": "stream",
     "text": [
      "Fold 3 AUC:  0.8157669018359253\n"
     ]
    },
    {
     "name": "stderr",
     "output_type": "stream",
     "text": [
      "4it [00:52, 12.47s/it]"
     ]
    },
    {
     "name": "stdout",
     "output_type": "stream",
     "text": [
      "Fold 4 AUC:  0.8149764939203579\n"
     ]
    },
    {
     "name": "stderr",
     "output_type": "stream",
     "text": [
      "5it [01:03, 12.69s/it]\n"
     ]
    },
    {
     "name": "stdout",
     "output_type": "stream",
     "text": [
      "OOF AUC:  0.8157085823250303\n"
     ]
    },
    {
     "name": "stderr",
     "output_type": "stream",
     "text": [
      "0it [00:00, ?it/s]"
     ]
    },
    {
     "name": "stdout",
     "output_type": "stream",
     "text": [
      "[20:36:27] WARNING: ../src/learner.cc:573: \n",
      "Parameters: { \"verbose\" } might not be used.\n",
      "\n",
      "  This may not be accurate due to some parameters are only used in language bindings but\n",
      "  passed down to XGBoost core.  Or some parameters are not used but slip through this\n",
      "  verification. Please open an issue if you find above cases.\n",
      "\n",
      "\n",
      "[20:36:27] WARNING: ../src/learner.cc:1095: Starting in XGBoost 1.3.0, the default evaluation metric used with the objective 'binary:logistic' was changed from 'error' to 'logloss'. Explicitly set eval_metric if you'd like to restore the old behavior.\n"
     ]
    },
    {
     "name": "stderr",
     "output_type": "stream",
     "text": [
      "1it [00:01,  1.46s/it]"
     ]
    },
    {
     "name": "stdout",
     "output_type": "stream",
     "text": [
      "Fold 0 AUC:  0.8155117984201581\n",
      "[20:36:29] WARNING: ../src/learner.cc:573: \n",
      "Parameters: { \"verbose\" } might not be used.\n",
      "\n",
      "  This may not be accurate due to some parameters are only used in language bindings but\n",
      "  passed down to XGBoost core.  Or some parameters are not used but slip through this\n",
      "  verification. Please open an issue if you find above cases.\n",
      "\n",
      "\n",
      "[20:36:29] WARNING: ../src/learner.cc:1095: Starting in XGBoost 1.3.0, the default evaluation metric used with the objective 'binary:logistic' was changed from 'error' to 'logloss'. Explicitly set eval_metric if you'd like to restore the old behavior.\n"
     ]
    },
    {
     "name": "stderr",
     "output_type": "stream",
     "text": [
      "2it [00:02,  1.38s/it]"
     ]
    },
    {
     "name": "stdout",
     "output_type": "stream",
     "text": [
      "Fold 1 AUC:  0.8164907761071821\n",
      "[20:36:30] WARNING: ../src/learner.cc:573: \n",
      "Parameters: { \"verbose\" } might not be used.\n",
      "\n",
      "  This may not be accurate due to some parameters are only used in language bindings but\n",
      "  passed down to XGBoost core.  Or some parameters are not used but slip through this\n",
      "  verification. Please open an issue if you find above cases.\n",
      "\n",
      "\n",
      "[20:36:30] WARNING: ../src/learner.cc:1095: Starting in XGBoost 1.3.0, the default evaluation metric used with the objective 'binary:logistic' was changed from 'error' to 'logloss'. Explicitly set eval_metric if you'd like to restore the old behavior.\n"
     ]
    },
    {
     "name": "stderr",
     "output_type": "stream",
     "text": [
      "3it [00:04,  1.35s/it]"
     ]
    },
    {
     "name": "stdout",
     "output_type": "stream",
     "text": [
      "Fold 2 AUC:  0.8156391615387302\n",
      "[20:36:31] WARNING: ../src/learner.cc:573: \n",
      "Parameters: { \"verbose\" } might not be used.\n",
      "\n",
      "  This may not be accurate due to some parameters are only used in language bindings but\n",
      "  passed down to XGBoost core.  Or some parameters are not used but slip through this\n",
      "  verification. Please open an issue if you find above cases.\n",
      "\n",
      "\n",
      "[20:36:31] WARNING: ../src/learner.cc:1095: Starting in XGBoost 1.3.0, the default evaluation metric used with the objective 'binary:logistic' was changed from 'error' to 'logloss'. Explicitly set eval_metric if you'd like to restore the old behavior.\n"
     ]
    },
    {
     "name": "stderr",
     "output_type": "stream",
     "text": [
      "4it [00:05,  1.33s/it]"
     ]
    },
    {
     "name": "stdout",
     "output_type": "stream",
     "text": [
      "Fold 3 AUC:  0.8155759157891274\n",
      "[20:36:32] WARNING: ../src/learner.cc:573: \n",
      "Parameters: { \"verbose\" } might not be used.\n",
      "\n",
      "  This may not be accurate due to some parameters are only used in language bindings but\n",
      "  passed down to XGBoost core.  Or some parameters are not used but slip through this\n",
      "  verification. Please open an issue if you find above cases.\n",
      "\n",
      "\n",
      "[20:36:32] WARNING: ../src/learner.cc:1095: Starting in XGBoost 1.3.0, the default evaluation metric used with the objective 'binary:logistic' was changed from 'error' to 'logloss'. Explicitly set eval_metric if you'd like to restore the old behavior.\n"
     ]
    },
    {
     "name": "stderr",
     "output_type": "stream",
     "text": [
      "5it [00:06,  1.34s/it]"
     ]
    },
    {
     "name": "stdout",
     "output_type": "stream",
     "text": [
      "Fold 4 AUC:  0.8148146917613646\n"
     ]
    },
    {
     "name": "stderr",
     "output_type": "stream",
     "text": [
      "\n"
     ]
    },
    {
     "name": "stdout",
     "output_type": "stream",
     "text": [
      "OOF AUC:  0.815549334195049\n"
     ]
    },
    {
     "name": "stderr",
     "output_type": "stream",
     "text": [
      "0it [00:00, ?it/s]"
     ]
    },
    {
     "name": "stdout",
     "output_type": "stream",
     "text": [
      "Fold 0 AUC:  0.8156882235303519\n"
     ]
    },
    {
     "name": "stderr",
     "output_type": "stream",
     "text": [
      "1it [00:07,  7.06s/it]"
     ]
    },
    {
     "name": "stdout",
     "output_type": "stream",
     "text": [
      "Fold 1 AUC:  0.8168355713680283\n"
     ]
    },
    {
     "name": "stderr",
     "output_type": "stream",
     "text": [
      "2it [00:14,  7.23s/it]"
     ]
    },
    {
     "name": "stdout",
     "output_type": "stream",
     "text": [
      "Fold 2 AUC:  0.8159430471408274\n"
     ]
    },
    {
     "name": "stderr",
     "output_type": "stream",
     "text": [
      "3it [00:20,  6.85s/it]"
     ]
    },
    {
     "name": "stdout",
     "output_type": "stream",
     "text": [
      "Fold 3 AUC:  0.8159084144383737\n"
     ]
    },
    {
     "name": "stderr",
     "output_type": "stream",
     "text": [
      "5it [00:31,  6.38s/it]"
     ]
    },
    {
     "name": "stdout",
     "output_type": "stream",
     "text": [
      "Fold 4 AUC:  0.8150149529177225\n"
     ]
    },
    {
     "name": "stderr",
     "output_type": "stream",
     "text": [
      "\n"
     ]
    },
    {
     "name": "stdout",
     "output_type": "stream",
     "text": [
      "OOF AUC:  0.8158359057937437\n"
     ]
    },
    {
     "name": "stderr",
     "output_type": "stream",
     "text": [
      "1it [00:03,  3.63s/it]"
     ]
    },
    {
     "name": "stdout",
     "output_type": "stream",
     "text": [
      "Fold 0 AUC:  0.815794768154405\n"
     ]
    },
    {
     "name": "stderr",
     "output_type": "stream",
     "text": [
      "2it [00:06,  3.18s/it]"
     ]
    },
    {
     "name": "stdout",
     "output_type": "stream",
     "text": [
      "Fold 1 AUC:  0.8168366602928481\n"
     ]
    },
    {
     "name": "stderr",
     "output_type": "stream",
     "text": [
      "3it [00:09,  2.88s/it]"
     ]
    },
    {
     "name": "stdout",
     "output_type": "stream",
     "text": [
      "Fold 2 AUC:  0.8159430489389918\n"
     ]
    },
    {
     "name": "stderr",
     "output_type": "stream",
     "text": [
      "4it [00:12,  3.02s/it]"
     ]
    },
    {
     "name": "stdout",
     "output_type": "stream",
     "text": [
      "Fold 3 AUC:  0.8159251357333809\n"
     ]
    },
    {
     "name": "stderr",
     "output_type": "stream",
     "text": [
      "5it [00:14,  2.99s/it]"
     ]
    },
    {
     "name": "stdout",
     "output_type": "stream",
     "text": [
      "Fold 4 AUC:  0.8151272339287606\n"
     ]
    },
    {
     "name": "stderr",
     "output_type": "stream",
     "text": [
      "\n"
     ]
    },
    {
     "name": "stdout",
     "output_type": "stream",
     "text": [
      "OOF AUC:  0.8159198689901482\n"
     ]
    }
   ],
   "source": [
    "params = {\"objective\": \"binary\", \"metric\": \"binary_logloss\", \"random_state\": SEED, \"device_type\" : \"gpu\", 'verbose':0, \"n_estimators\" : 2000} \n",
    "oof_lgb2, pred_lgb2, _ = cross_validate(\n",
    "    LGBMClassifier(**params),\n",
    "    df_oof,\n",
    "    df_pred\n",
    ")\n",
    "\n",
    "params = {\"objective\": \"binary:logistic\", \"random_state\": SEED, 'tree_method': 'gpu_hist', 'verbose':0, 'n_estimators': 2000}\n",
    "oof_xgb2, pred_xgb2, _ = cross_validate(\n",
    "    XGBClassifier(**params),\n",
    "    df_oof,\n",
    "    df_pred\n",
    ")\n",
    "\n",
    "params = {\"random_state\": SEED, 'task_type': 'GPU', 'verbose':0, 'iterations': 2000}\n",
    "oof_cat2, pred_cat2, _ = cross_validate(\n",
    "    CatBoostClassifier(**params),\n",
    "    df_oof, \n",
    "    df_pred\n",
    ")\n",
    "\n",
    "params = {\"random_state\": SEED, 'n_jobs': -1 , 'C':1000, 'max_iter':1000}\n",
    "oof_log2, pred_log2, _ = cross_validate(\n",
    "    LogisticRegression(**params), \n",
    "    df_oof,\n",
    "    df_pred,\n",
    "    early_stopping=False\n",
    ")\n"
   ]
  },
  {
   "cell_type": "code",
   "execution_count": 30,
   "id": "0973d6a0",
   "metadata": {
    "execution": {
     "iopub.execute_input": "2021-09-26T20:37:22.337539Z",
     "iopub.status.busy": "2021-09-26T20:37:22.336561Z",
     "iopub.status.idle": "2021-09-26T20:37:22.345216Z",
     "shell.execute_reply": "2021-09-26T20:37:22.344786Z",
     "shell.execute_reply.started": "2021-09-26T16:26:34.667155Z"
    },
    "papermill": {
     "duration": 0.07863,
     "end_time": "2021-09-26T20:37:22.345331",
     "exception": false,
     "start_time": "2021-09-26T20:37:22.266701",
     "status": "completed"
    },
    "tags": []
   },
   "outputs": [],
   "source": [
    "ensemble_predictions = np.array([pred_lgb2, pred_xgb2, pred_cat2, pred_log2]).mean(axis=0)"
   ]
  },
  {
   "cell_type": "code",
   "execution_count": 31,
   "id": "1996ef9f",
   "metadata": {
    "execution": {
     "iopub.execute_input": "2021-09-26T20:37:22.481780Z",
     "iopub.status.busy": "2021-09-26T20:37:22.481073Z",
     "iopub.status.idle": "2021-09-26T20:37:22.484319Z",
     "shell.execute_reply": "2021-09-26T20:37:22.484725Z",
     "shell.execute_reply.started": "2021-09-26T16:26:36.701992Z"
    },
    "papermill": {
     "duration": 0.074373,
     "end_time": "2021-09-26T20:37:22.484851",
     "exception": false,
     "start_time": "2021-09-26T20:37:22.410478",
     "status": "completed"
    },
    "tags": []
   },
   "outputs": [
    {
     "data": {
      "text/plain": [
       "array([0.5717611 , 0.12923972, 0.62545081, ..., 0.75189004, 0.14970636,\n",
       "       0.74437372])"
      ]
     },
     "execution_count": 31,
     "metadata": {},
     "output_type": "execute_result"
    }
   ],
   "source": [
    "ensemble_predictions"
   ]
  },
  {
   "cell_type": "code",
   "execution_count": 32,
   "id": "513869c0",
   "metadata": {
    "execution": {
     "iopub.execute_input": "2021-09-26T20:37:22.641204Z",
     "iopub.status.busy": "2021-09-26T20:37:22.640480Z",
     "iopub.status.idle": "2021-09-26T20:37:24.241423Z",
     "shell.execute_reply": "2021-09-26T20:37:24.240921Z",
     "shell.execute_reply.started": "2021-09-26T16:26:38.886492Z"
    },
    "papermill": {
     "duration": 1.689484,
     "end_time": "2021-09-26T20:37:24.241554",
     "exception": false,
     "start_time": "2021-09-26T20:37:22.552070",
     "status": "completed"
    },
    "tags": []
   },
   "outputs": [],
   "source": [
    "submission['claim'] = ensemble_predictions.tolist()\n",
    "submission.to_csv('submission.csv', index=False)"
   ]
  }
 ],
 "metadata": {
  "kernelspec": {
   "display_name": "Python 3 (ipykernel)",
   "language": "python",
   "name": "python3"
  },
  "language_info": {
   "codemirror_mode": {
    "name": "ipython",
    "version": 3
   },
   "file_extension": ".py",
   "mimetype": "text/x-python",
   "name": "python",
   "nbconvert_exporter": "python",
   "pygments_lexer": "ipython3",
   "version": "3.10.6"
  },
  "papermill": {
   "default_parameters": {},
   "duration": 2162.218203,
   "end_time": "2021-09-26T20:37:26.111771",
   "environment_variables": {},
   "exception": null,
   "input_path": "__notebook__.ipynb",
   "output_path": "__notebook__.ipynb",
   "parameters": {},
   "start_time": "2021-09-26T20:01:23.893568",
   "version": "2.3.3"
  }
 },
 "nbformat": 4,
 "nbformat_minor": 5
}
